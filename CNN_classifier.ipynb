{
  "nbformat": 4,
  "nbformat_minor": 0,
  "metadata": {
    "colab": {
      "provenance": [],
      "gpuType": "T4"
    },
    "kernelspec": {
      "name": "python3",
      "display_name": "Python 3"
    },
    "language_info": {
      "name": "python"
    },
    "accelerator": "GPU"
  },
  "cells": [
    {
      "cell_type": "code",
      "execution_count": 4,
      "metadata": {
        "colab": {
          "base_uri": "https://localhost:8080/"
        },
        "id": "CujG9MmXzsiP",
        "outputId": "351b1e9f-062e-4df1-f906-935bb99fb50b"
      },
      "outputs": [
        {
          "output_type": "stream",
          "name": "stdout",
          "text": [
            "Mounted at /content/drive\n"
          ]
        }
      ],
      "source": [
        "import tensorflow as tf\n",
        "import pandas as pd\n",
        "import numpy as np\n",
        "from sklearn.model_selection import train_test_split\n",
        "from sklearn.utils.class_weight import compute_class_weight\n",
        "from sklearn.metrics import accuracy_score\n",
        "import joblib\n",
        "from google.colab import drive\n",
        "drive.mount('/content/drive')\n"
      ]
    },
    {
      "cell_type": "code",
      "source": [
        "print(\"Num GPUs Available: \", len(tf.config.experimental.list_physical_devices('GPU')))"
      ],
      "metadata": {
        "colab": {
          "base_uri": "https://localhost:8080/"
        },
        "id": "0ulfBVE55aXK",
        "outputId": "3e20a546-f1a5-46e8-b847-abb412d92503"
      },
      "execution_count": 7,
      "outputs": [
        {
          "output_type": "stream",
          "name": "stdout",
          "text": [
            "Num GPUs Available:  1\n"
          ]
        }
      ]
    },
    {
      "cell_type": "code",
      "source": [
        "with tf.device('/GPU:0'):\n",
        "  file = \"/content/drive/My Drive/dataset_6k.csv\"\n",
        "  dataset = pd.read_csv(file)\n",
        "\n",
        "  X = dataset.drop('label', axis=1)\n",
        "  y = dataset['label']\n",
        "\n",
        "  X_train, X_test, y_train, y_test = train_test_split(X, y, test_size=0.4, random_state=42)\n",
        "\n",
        "  X_test, X_val, y_test, y_val = train_test_split(X_test, y_test, test_size=0.5, random_state=42)\n",
        "\n",
        "  X_train_np = X_train.values\n",
        "  X_test_np = X_test.values\n",
        "  X_val_np = X_val.values\n",
        "\n",
        "  X_train = X_train_np.reshape(X_train.shape[0], X_train.shape[1], 1)\n",
        "  X_test = X_test_np.reshape(X_test.shape[0], X_test.shape[1], 1)\n",
        "  X_val = X_val_np.reshape(X_val.shape[0], X_test.shape[1], 1)\n",
        "\n",
        "  classes = np.array([0,1])\n",
        "\n",
        "  class_weights = compute_class_weight('balanced', classes=classes, y=y_train)"
      ],
      "metadata": {
        "id": "WUGF5k6kz5JB"
      },
      "execution_count": 8,
      "outputs": []
    },
    {
      "cell_type": "code",
      "source": [
        "# Define the CNN architecture\n",
        "model = tf.keras.models.Sequential([\n",
        "    tf.keras.layers.Conv1D(32, 3, activation='relu', input_shape=[X_train.shape[1], 1]),\n",
        "    tf.keras.layers.MaxPooling1D(pool_size=2),\n",
        "    # tf.keras.layers.Conv1D(64, 3, activation='relu'),\n",
        "    # tf.keras.layers.MaxPooling1D(pool_size=2),\n",
        "    tf.keras.layers.Flatten(),\n",
        "    tf.keras.layers.Dense(64, activation='relu'),\n",
        "    tf.keras.layers.Dense(2, activation='softmax')\n",
        "])\n",
        "\n",
        "# Compile the model\n",
        "model.compile(optimizer='adam',\n",
        "              loss='sparse_categorical_crossentropy',\n",
        "              metrics=['accuracy'])\n",
        "\n",
        "# Train the model with class weights\n",
        "model.fit(X_train, y_train, epochs=25, batch_size=1000, validation_data=(X_test, y_test))\n",
        "\n",
        "saved_model = joblib.dump(model, \"/content/drive/My Drive/CNN_model.joblib\")\n",
        "\n",
        "loss, accuracy = model.evaluate(X_test, y_test)\n",
        "\n",
        "# prediction = model.predict(X_val)\n",
        "# result = accuracy_score(y_val, prediction)\n",
        "\n",
        "print(\"Loss: {}, Accuracy: {}\".format(loss, accuracy))\n",
        "# print(\"Prediction on validation set: {}\".format(result))"
      ],
      "metadata": {
        "colab": {
          "base_uri": "https://localhost:8080/"
        },
        "id": "qsp2WjVRz_K1",
        "outputId": "b425eca7-c2e2-44f1-a87b-0cb6cb72b8bf"
      },
      "execution_count": 12,
      "outputs": [
        {
          "output_type": "stream",
          "name": "stdout",
          "text": [
            "Epoch 1/25\n",
            "4/4 [==============================] - 3s 582ms/step - loss: 88575.9219 - accuracy: 0.4936 - val_loss: 8963.6230 - val_accuracy: 0.4921\n",
            "Epoch 2/25\n",
            "4/4 [==============================] - 1s 360ms/step - loss: 2451.6113 - accuracy: 0.7550 - val_loss: 0.6862 - val_accuracy: 0.5179\n",
            "Epoch 3/25\n",
            "4/4 [==============================] - 1s 388ms/step - loss: 0.6926 - accuracy: 0.4917 - val_loss: 0.6931 - val_accuracy: 0.5079\n",
            "Epoch 4/25\n",
            "4/4 [==============================] - 1s 358ms/step - loss: 0.6932 - accuracy: 0.4908 - val_loss: 0.6931 - val_accuracy: 0.5079\n",
            "Epoch 5/25\n",
            "4/4 [==============================] - 1s 366ms/step - loss: 0.6933 - accuracy: 0.4908 - val_loss: 0.6931 - val_accuracy: 0.5079\n",
            "Epoch 6/25\n",
            "4/4 [==============================] - 2s 501ms/step - loss: 0.6933 - accuracy: 0.4908 - val_loss: 0.6931 - val_accuracy: 0.5079\n",
            "Epoch 7/25\n",
            "4/4 [==============================] - 2s 527ms/step - loss: 0.6933 - accuracy: 0.4908 - val_loss: 0.6931 - val_accuracy: 0.5079\n",
            "Epoch 8/25\n",
            "4/4 [==============================] - 2s 486ms/step - loss: 0.6933 - accuracy: 0.4908 - val_loss: 0.6931 - val_accuracy: 0.5079\n",
            "Epoch 9/25\n",
            "4/4 [==============================] - 2s 384ms/step - loss: 0.6933 - accuracy: 0.4908 - val_loss: 0.6931 - val_accuracy: 0.5079\n",
            "Epoch 10/25\n",
            "4/4 [==============================] - 1s 364ms/step - loss: 0.6933 - accuracy: 0.4908 - val_loss: 0.6931 - val_accuracy: 0.5079\n",
            "Epoch 11/25\n",
            "4/4 [==============================] - 1s 386ms/step - loss: 0.6933 - accuracy: 0.4908 - val_loss: 0.6931 - val_accuracy: 0.5079\n",
            "Epoch 12/25\n",
            "4/4 [==============================] - 1s 361ms/step - loss: 0.6933 - accuracy: 0.4908 - val_loss: 0.6931 - val_accuracy: 0.5079\n",
            "Epoch 13/25\n",
            "4/4 [==============================] - 1s 387ms/step - loss: 0.6933 - accuracy: 0.4908 - val_loss: 0.6931 - val_accuracy: 0.5079\n",
            "Epoch 14/25\n",
            "4/4 [==============================] - 1s 360ms/step - loss: 0.6933 - accuracy: 0.4908 - val_loss: 0.6931 - val_accuracy: 0.5079\n",
            "Epoch 15/25\n",
            "4/4 [==============================] - 1s 387ms/step - loss: 0.6933 - accuracy: 0.4908 - val_loss: 0.6931 - val_accuracy: 0.5079\n",
            "Epoch 16/25\n",
            "4/4 [==============================] - 2s 411ms/step - loss: 0.6933 - accuracy: 0.4908 - val_loss: 0.6931 - val_accuracy: 0.5079\n",
            "Epoch 17/25\n",
            "4/4 [==============================] - 2s 398ms/step - loss: 0.6933 - accuracy: 0.4908 - val_loss: 0.6931 - val_accuracy: 0.5079\n",
            "Epoch 18/25\n",
            "4/4 [==============================] - 1s 388ms/step - loss: 0.6932 - accuracy: 0.4908 - val_loss: 0.6931 - val_accuracy: 0.5079\n",
            "Epoch 19/25\n",
            "4/4 [==============================] - 1s 390ms/step - loss: 0.6932 - accuracy: 0.4908 - val_loss: 0.6931 - val_accuracy: 0.5079\n",
            "Epoch 20/25\n",
            "4/4 [==============================] - 1s 387ms/step - loss: 0.6932 - accuracy: 0.4908 - val_loss: 0.6931 - val_accuracy: 0.5079\n",
            "Epoch 21/25\n",
            "4/4 [==============================] - 1s 388ms/step - loss: 0.6932 - accuracy: 0.4908 - val_loss: 0.6931 - val_accuracy: 0.5079\n",
            "Epoch 22/25\n",
            "4/4 [==============================] - 1s 358ms/step - loss: 0.6932 - accuracy: 0.4908 - val_loss: 0.6931 - val_accuracy: 0.5079\n",
            "Epoch 23/25\n",
            "4/4 [==============================] - 1s 386ms/step - loss: 0.6932 - accuracy: 0.4908 - val_loss: 0.6931 - val_accuracy: 0.5079\n",
            "Epoch 24/25\n",
            "4/4 [==============================] - 1s 392ms/step - loss: 0.6932 - accuracy: 0.4908 - val_loss: 0.6931 - val_accuracy: 0.5079\n",
            "Epoch 25/25\n",
            "4/4 [==============================] - 1s 371ms/step - loss: 0.6932 - accuracy: 0.4908 - val_loss: 0.6931 - val_accuracy: 0.5079\n",
            "38/38 [==============================] - 0s 7ms/step - loss: 0.6931 - accuracy: 0.5079\n",
            "Loss: 0.6931169033050537, Accuracy: 0.5079232454299927\n"
          ]
        }
      ]
    }
  ]
}